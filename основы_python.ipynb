{
 "cells": [
  {
   "cell_type": "markdown",
   "metadata": {
    "id": "M-DGa20PaHnu"
   },
   "source": [
    "# Задача 1\n",
    "\n",
    "Написать функцию на вход которой подается строка, состоящая из латинских букв.\n",
    "Функция должна вернуть количество гласных букв (a, e, i, o, u) в этой строке. Написать тесты для кода"
   ]
  },
  {
   "cell_type": "code",
   "execution_count": 37,
   "metadata": {
    "id": "XvX8X_JJ6PCb"
   },
   "outputs": [
    {
     "name": "stdout",
     "output_type": "stream",
     "text": [
      "Test 1 passed.\n",
      "Test 2 passed.\n",
      "Test 3 passed.\n",
      "Test 4 passed.\n"
     ]
    }
   ],
   "source": [
    "def count_vowels(s):\n",
    "    vowels = \"aeiouAEIOU\"\n",
    "    res = 0\n",
    "    for char in s:\n",
    "        if char in vowels:\n",
    "            res += 1\n",
    "    return res\n",
    "\n",
    "def test():\n",
    "    # Тест 1: Обычная строка\n",
    "    assert count_vowels(\"sleep\") == 2, \"Test 1 Failed\"\n",
    "    print(\"Test 1 passed.\")\n",
    "\n",
    "    # Тест 2: Строка с гласными в разном регистре\n",
    "    assert count_vowels(\"sleEp\") == 2, \"Test 2 Failed\"\n",
    "    print(\"Test 2 passed.\")\n",
    "\n",
    "    # Тест 3: Строка без гласных\n",
    "    assert count_vowels(\"hllmfrnd\") == 0, \"Test 3 Failed\"\n",
    "    print(\"Test 3 passed.\")\n",
    "\n",
    "    # Тест 4: Пустая строка\n",
    "    assert count_vowels(\"\") == 0, \"Test 4 Failed\"\n",
    "    print(\"Test 4 passed.\")\n",
    "\n",
    "test()"
   ]
  },
  {
   "cell_type": "markdown",
   "metadata": {
    "id": "t2ClV_Y0bbr6"
   },
   "source": [
    "# Задача 2\n",
    "Написать функцию на вход, которой подается строка. Функция должна вернуть true, если\n",
    "каждый символ в строке встречается только 1 раз, иначе должна вернуть false. Написать тесты для кода"
   ]
  },
  {
   "cell_type": "code",
   "execution_count": 55,
   "metadata": {
    "id": "FppbECao6VIz"
   },
   "outputs": [
    {
     "name": "stdout",
     "output_type": "stream",
     "text": [
      "Test 1 passed.\n",
      "Test 2 passed.\n",
      "Test 3 passed.\n",
      "Test 4 passed.\n",
      "Test 5 passed.\n",
      "Test 6 passed.\n"
     ]
    }
   ],
   "source": [
    "def check_unique(s):\n",
    "    # Создаем пустой словарь для учета\n",
    "    char_count = {}\n",
    "    # Проходим по символам\n",
    "    for char in s:\n",
    "        # Если символ уже есть в словаре, возвращаем False\n",
    "        if char in char_count:\n",
    "            return False\n",
    "        char_count[char] = 1\n",
    "    return True\n",
    "\n",
    "def test():\n",
    "    # Тест 1: Строка с уникальными символами\n",
    "    assert check_unique(\"abcdefg\") == True, \"Test 1 Failed\"\n",
    "    print(\"Test 1 passed.\")\n",
    "\n",
    "    # Тест 2: Строка с повторяющимися символами\n",
    "    assert check_unique(\"abcdefc\") == False, \"Test 2 Failed\"\n",
    "    print(\"Test 2 passed.\")\n",
    "\n",
    "    # Тест 3: Пустая строка\n",
    "    assert check_unique(\"\") == True, \"Test 3 Failed\"\n",
    "    print(\"Test 3 passed.\")\n",
    "\n",
    "    # Тест 4: Строка с одним символом\n",
    "    assert check_unique(\"a\") == True, \"Test 4 Failed\"\n",
    "    print(\"Test 4 passed.\")\n",
    "\n",
    "    # Тест 5: Строка с повторяющимися символами в разном регистре \n",
    "    # Были сомнения по поводу этого пункта, но разные регистры это ведь разные символы?\n",
    "    assert check_unique(\"AaBbCc\") == True, \"Test 5 Failed\"\n",
    "    print(\"Test 5 passed.\")\n",
    "\n",
    "    # Тест 6: Строка с повторяющимися символами и разным регистром\n",
    "    assert check_unique(\"AaBbCcA\") == False, \"Test 6 Failed\"\n",
    "    print(\"Test 6 passed.\")\n",
    "\n",
    "test()"
   ]
  },
  {
   "cell_type": "markdown",
   "metadata": {
    "id": "udRiIK1cdt6E"
   },
   "source": [
    "# Задача 3\n",
    "Написать функцию, которая принимает положительное число и возвращает количество\n",
    "бит равных 1 в этом числе. Написать тесты для кода"
   ]
  },
  {
   "cell_type": "code",
   "execution_count": 43,
   "metadata": {
    "id": "6tkfDJRz6dp_"
   },
   "outputs": [
    {
     "name": "stdout",
     "output_type": "stream",
     "text": [
      "Test 1 passed.\n",
      "Test 2 passed.\n",
      "Test 3 passed.\n",
      "Test 4 passed.\n"
     ]
    }
   ],
   "source": [
    "def count_ones(n):\n",
    "    res = 0\n",
    "    while n > 0:\n",
    "        if n % 2 == 1:\n",
    "            res += 1\n",
    "        n = n // 2\n",
    "    return res\n",
    "    # Есть более простой способ через bin(n).count('1')\n",
    "\n",
    "def test():\n",
    "    # Тест 1: Число 6 в двоичном представлении 110\n",
    "    assert count_ones(5) == 2, \"Test 1 Failed\"\n",
    "    print(\"Test 1 passed.\")\n",
    "\n",
    "    # Тест 2: Число 14 в двоичном представлении 1110\n",
    "    assert count_ones(14) == 3, \"Test 2 Failed\"\n",
    "    print(\"Test 2 passed.\")\n",
    "\n",
    "    # Тест 3: Число 0\n",
    "    assert count_ones(0) == 0, \"Test 3 Failed\"\n",
    "    print(\"Test 3 passed.\")\n",
    "\n",
    "    # Тест 4: Число 255 в двоичном представлении 11111111\n",
    "    assert count_ones(255) == 8, \"Test 4 Failed\"\n",
    "    print(\"Test 4 passed.\")\n",
    "\n",
    "test()"
   ]
  },
  {
   "cell_type": "markdown",
   "metadata": {
    "id": "26dDUz-Ae17N"
   },
   "source": [
    "# Задача 4\n",
    "Написать функцию, которая принимает положительное число. Функция должна вернуть то,\n",
    "сколько раз необходимо перемножать цифры числа или результат перемножения, чтобы\n",
    "получилось число состоящее из одной цифры.\n",
    "Например, для входного числа:\n",
    "· 39 функция должна вернуть 3, так как 3*9=27 => 2*7=14 => 1*4=4\n",
    "· 4 функция должна вернуть 0, так как число уже состоит из одной цифры\n",
    "· 999 функция должна вернуть 4, так как 9*9*9=729 => 7*2*9=126 => 1*2*6=12 =>\n",
    "1*2=2. Написать тесты для кода"
   ]
  },
  {
   "cell_type": "code",
   "execution_count": 53,
   "metadata": {
    "id": "BH1A_Mgi6i4G"
   },
   "outputs": [
    {
     "name": "stdout",
     "output_type": "stream",
     "text": [
      "Test 1 passed.\n",
      "Test 2 passed.\n",
      "Test 3 passed.\n",
      "Test 4 passed.\n",
      "Test 5 passed.\n"
     ]
    }
   ],
   "source": [
    "def magic(n):\n",
    "    if n < 10:\n",
    "        return 0\n",
    "    res = 0\n",
    "    while n >= 10:\n",
    "        part = 1\n",
    "        while n > 0:\n",
    "            part *= n % 10\n",
    "            n //= 10\n",
    "        n = part\n",
    "        res += 1\n",
    "    return res\n",
    "\n",
    "def test():\n",
    "    # Тест 1: Входное число 39\n",
    "    assert magic(39) == 3, \"Test 1 Failed\"\n",
    "    print(\"Test 1 passed.\")\n",
    "\n",
    "    # Тест 2: Входное число 4 (уже одноцифровое)\n",
    "    assert magic(4) == 0, \"Test 2 Failed\"\n",
    "    print(\"Test 2 passed.\")\n",
    "\n",
    "    # Тест 3: Входное число 999\n",
    "    assert magic(999) == 4, \"Test 3 Failed\"\n",
    "    print(\"Test 3 passed.\")\n",
    "\n",
    "    # Тест 4: Входное число 124\n",
    "    assert magic(124) == 1, \"Test 4 Failed\"\n",
    "    print(\"Test 4 passed.\")\n",
    "\n",
    "    # Тест 5: Входное число 1000\n",
    "    assert magic(1000) == 1, \"Test 5 Failed\"\n",
    "    print(\"Test 5 passed.\")\n",
    "\n",
    "test()"
   ]
  },
  {
   "cell_type": "markdown",
   "metadata": {
    "id": "0nS-kIa8g8vd"
   },
   "source": [
    "# Задача 5\n",
    "Написать функцию, которая принимает два целочисленных вектора одинаковой длины и\n",
    "возвращает среднеквадратическое отклонение двух векторов. Написать тесты для кода"
   ]
  },
  {
   "cell_type": "code",
   "execution_count": 161,
   "metadata": {
    "id": "8iphx4LM6xbx"
   },
   "outputs": [
    {
     "name": "stdout",
     "output_type": "stream",
     "text": [
      "Test 1 passed.\n",
      "Test 2 passed.\n",
      "Test 3 passed.\n"
     ]
    }
   ],
   "source": [
    "def mse(pred, true):\n",
    "    n = len(pred)\n",
    "    # Инициализация суммы квадратов ошибок\n",
    "    sum_squared_errors = 0\n",
    "    for i in range(n):\n",
    "        error = pred[i] - true[i]\n",
    "        sum_squared_errors += error ** 2\n",
    "    mse_value = sum_squared_errors / n\n",
    "    return mse_value\n",
    "\n",
    "def test():\n",
    "    # Тест 1: Обычные векторы\n",
    "    pred = [3, -0.5, 2, 7]\n",
    "    true = [2.5, 0.0, 2, 8]\n",
    "    result = mse(pred, true)\n",
    "    assert result == 0.375, \"Test 1 Failed\"\n",
    "    print(\"Test 1 passed.\")\n",
    "\n",
    "    # Тест 2: Векторы с одинаковыми значениями\n",
    "    pred = [1, 1, 1]\n",
    "    true = [1, 1, 1]\n",
    "    result = mse(pred, true)\n",
    "    assert result == 0.0, \"Test 2 Failed\"\n",
    "    print(\"Test 2 passed.\")\n",
    "\n",
    "    # Тест 3: Векторы с отрицательными значениями\n",
    "    pred = [-1, -5]\n",
    "    true = [-4, -4]\n",
    "    result = mse(pred, true)\n",
    "    assert result == 5, \"Test 3 Failed\"\n",
    "    print(\"Test 3 passed.\")\n",
    "\n",
    "test()"
   ]
  },
  {
   "cell_type": "markdown",
   "metadata": {
    "id": "vpIPKL439zkw"
   },
   "source": [
    "# Задача 6\n",
    "Написать функцию, принимающая целое положительное число. Функция должна вернуть\n",
    "строку вида “(n1**p1)(n2**p2)…(nk**pk)” представляющая разложение числа на простые\n",
    "множители (если pi == 1, то выводить только ni).\n",
    "Например, для числа 86240 функция должна вернуть \"(2**5)(5)(7**2)(11)”. Написать тесты для кода"
   ]
  },
  {
   "cell_type": "code",
   "execution_count": 110,
   "metadata": {
    "id": "pFebmcZk94Jw"
   },
   "outputs": [
    {
     "name": "stdout",
     "output_type": "stream",
     "text": [
      "Test 1 passed.\n",
      "Test 2 passed.\n",
      "Test 3 passed.\n",
      "Test 4 passed.\n",
      "Test 5 passed.\n",
      "Test 6 passed.\n"
     ]
    }
   ],
   "source": [
    "def factorize(n):\n",
    "    if n < 1:\n",
    "        print(\"n должно быть положительным целым числом\")\n",
    "    factors = {}\n",
    "    # Проверка на 2\n",
    "    while n % 2 == 0:\n",
    "        if 2 in factors:\n",
    "            factors[2] += 1\n",
    "        else:\n",
    "            factors[2] = 1\n",
    "        n //= 2\n",
    "    # Проверка на нечетные числа\n",
    "    for i in range(3, int(n**0.5) + 1, 2):\n",
    "        while n % i == 0:\n",
    "            if i in factors:\n",
    "                factors[i] += 1\n",
    "            else:\n",
    "                factors[i] = 1\n",
    "            n //= i\n",
    "    # Если n стало простым числом больше 2\n",
    "    if n > 2:\n",
    "        factors[n] = 1\n",
    "    # Формирование строки с резултатом\n",
    "    result = \"\"\n",
    "    for p, k in factors.items():\n",
    "        if k == 1:\n",
    "            result += f'({p})'\n",
    "        else:\n",
    "            result += f'({p}**{k})'\n",
    "    return result\n",
    "\n",
    "def test():\n",
    "    # Тест 1: Проверка на число 86240\n",
    "    result = factorize(86240)\n",
    "    assert result == \"(2**5)(5)(7**2)(11)\", \"Test 1 Failed\"\n",
    "    print(\"Test 1 passed.\")\n",
    "\n",
    "    # Тест 2: Проверка на простое число\n",
    "    result = factorize(29)\n",
    "    assert result == \"(29)\", \"Test 2 Failed\"\n",
    "    print(\"Test 2 passed.\")\n",
    "    \n",
    "    # Тест 3: Проверка на простое число\n",
    "    result = factorize(7)\n",
    "    assert result == \"(7)\", \"Test 3 Failed\"\n",
    "    print(\"Test 3 passed.\")\n",
    "\n",
    "    # Тест 4: Проверка на число с множеством одинаковых простых множителей\n",
    "    result = factorize(64)\n",
    "    assert result == \"(2**6)\", \"Test 4 Failed\"\n",
    "    print(\"Test 4 passed.\")\n",
    "\n",
    "    # Тест 5: Проверка на 1\n",
    "    result = factorize(1)\n",
    "    assert result == \"\", \"Test 5 Failed\"  # 1 не имеет простых множителей\n",
    "    print(\"Test 5 passed.\")\n",
    "\n",
    "    # Тест 6: Проверка на сложное число\n",
    "    result = factorize(60)\n",
    "    assert result == \"(2**2)(3)(5)\", \"Test 6 Failed\"\n",
    "    print(\"Test 6 passed.\")\n",
    "\n",
    "test()"
   ]
  },
  {
   "cell_type": "markdown",
   "metadata": {
    "id": "ps2s0BudX7A2"
   },
   "source": [
    "# Задача 7\n",
    "Написать функцию, принимающая целое число n, задающее количество кубиков. Функция\n",
    "должна определить, можно ли из данного кол-ва кубиков построить пирамиду, то есть\n",
    "можно ли представить число n как 1^2+2^2+3^2+…+k^2. Если можно, то функция должна\n",
    "вернуть k, иначе строку “It is impossible”. Написать тесты для кода"
   ]
  },
  {
   "cell_type": "code",
   "execution_count": 128,
   "metadata": {
    "id": "3YPjEXxhX_YT"
   },
   "outputs": [
    {
     "name": "stdout",
     "output_type": "stream",
     "text": [
      "Test 1 passed.\n",
      "Test 2 passed.\n",
      "Test 3 passed.\n",
      "Test 4 passed.\n",
      "Test 5 passed.\n",
      "Test 6 passed.\n",
      "Test 7 passed.\n"
     ]
    }
   ],
   "source": [
    "def pyramid(number):\n",
    "    if number < 1:\n",
    "        return \"It is impossible\"\n",
    "    k = 0\n",
    "    total = 0\n",
    "    # Считаем сумму квадратов до тех пор, пока не превысим number\n",
    "    while total < number:\n",
    "        k += 1\n",
    "        total += k**2\n",
    "        if total == number:\n",
    "            return k\n",
    "    return \"It is impossible\"\n",
    "\n",
    "def test():\n",
    "    # Тест 1: Проверка на n = 0 (невозможно)\n",
    "    result = pyramid(0)\n",
    "    assert result == \"It is impossible\", \"Test 1 Failed\"\n",
    "    print(\"Test 1 passed.\")\n",
    "    \n",
    "    # Тест 2: Проверка на n = 1\n",
    "    result = pyramid(1)\n",
    "    assert result == 1, \"Test 2 Failed\"\n",
    "    print(\"Test 2 passed.\")\n",
    "    \n",
    "    # Тест 3: Проверка на n = 2 (невозможно)\n",
    "    result = pyramid(2)\n",
    "    assert result == \"It is impossible\", \"Test 3 Failed\"\n",
    "    print(\"Test 3 passed.\")\n",
    "\n",
    "    # Тест 4: Проверка на n = 5 (1**2 + 2**2)\n",
    "    result = pyramid(5)\n",
    "    assert result == 2, \"Test 4 Failed\"\n",
    "    print(\"Test 4 passed.\")\n",
    "\n",
    "    # Тест 5: Проверка на n = 14 (1**2 + 2**2 + 3**2)\n",
    "    result = pyramid(14)\n",
    "    assert result == 3, \"Test 5 Failed\"\n",
    "    print(\"Test 5 passed.\")\n",
    "\n",
    "    # Тест 6: Проверка на n = 30 (1**2 + 2**2 + 3**2 + 4**2)\n",
    "    result = pyramid(30)\n",
    "    assert result == 4, \"Test 6 Failed\"\n",
    "    print(\"Test 6 passed.\")\n",
    "\n",
    "    # Тест 7: Проверка на n = 56 (1**2 + 2**2 + 3**2 + 4**2 + 5**2)\n",
    "    result = pyramid(56)\n",
    "    assert result == \"It is impossible\", \"Test 7 Failed\"\n",
    "    print(\"Test 7 passed.\")\n",
    "\n",
    "test()"
   ]
  },
  {
   "cell_type": "markdown",
   "metadata": {
    "id": "KeKgmIdAQMEJ"
   },
   "source": [
    "# Задача 8\n",
    "Функция принимает на вход положительное число и определяет является ли оно сбалансированным, т.е. сумма цифр до средних равна сумме цифр после. Средними в случае нечетного числа цифр считать одну цифру, в случае четного - две средних. Написать тесты для кода"
   ]
  },
  {
   "cell_type": "code",
   "execution_count": 155,
   "metadata": {
    "id": "gMAAqtqlQrZt"
   },
   "outputs": [
    {
     "name": "stdout",
     "output_type": "stream",
     "text": [
      "Test 1 passed.\n",
      "Test 2 passed.\n",
      "Test 3 passed.\n",
      "Test 4 passed.\n",
      "Test 5 passed.\n",
      "Test 6 passed.\n",
      "Test 7 passed.\n",
      "Test 8 passed.\n"
     ]
    }
   ],
   "source": [
    "def check_balance(n):\n",
    "    # Будем решать с преобразованием в строку\n",
    "    str_n = str(n)\n",
    "    length = len(str_n)\n",
    "    middle = length // 2\n",
    "    left_sum = 0\n",
    "    right_sum = 0\n",
    "    # Если количество цифр четное\n",
    "    if length % 2 == 0:\n",
    "        for i in range(middle):\n",
    "            left_sum += int(str_n[i])\n",
    "        for i in range(middle, length):\n",
    "            right_sum += int(str_n[i])\n",
    "    # Если количество цифр нечетное\n",
    "    else:\n",
    "        for i in range(middle):\n",
    "            left_sum += int(str_n[i])\n",
    "        for i in range(middle + 1, length):\n",
    "            right_sum += int(str_n[i])\n",
    "    return left_sum == right_sum\n",
    "\n",
    "def test():\n",
    "    # Тест 1: Проверка на сбалансированное число 423342\n",
    "    assert check_balance(423342) == True, \"Test 1 Failed\"\n",
    "    print(\"Test 1 passed.\")\n",
    "\n",
    "    # Тест 2: Проверка на несбалансированное число 12356\n",
    "    assert check_balance(12356) == False, \"Test 2 Failed\"\n",
    "    print(\"Test 2 passed.\")\n",
    "\n",
    "    # Тест 3: Проверка на сбалансированное число 12321\n",
    "    assert check_balance(12321) == True, \"Test 3 Failed\"\n",
    "    print(\"Test 3 passed.\")\n",
    "\n",
    "    # Тест 4: Проверка на несбалансированное число 12218\n",
    "    assert check_balance(12218) == False, \"Test 4 Failed\"\n",
    "    print(\"Test 4 passed.\")\n",
    "\n",
    "    # Тест 5: Проверка на сбалансированное число 1\n",
    "    assert check_balance(1) == True, \"Test 5 Failed\"\n",
    "    print(\"Test 5 passed.\")\n",
    "\n",
    "    # Тест 6: Проверка на несбалансированное число 100\n",
    "    assert check_balance(100) == False, \"Test 6 Failed\"\n",
    "    print(\"Test 6 passed.\")\n",
    "\n",
    "    # Тест 7: Проверка на сбалансированное число 121\n",
    "    assert check_balance(121) == True, \"Test 7 Failed\"\n",
    "    print(\"Test 7 passed.\")\n",
    "\n",
    "    # Тест 8: Проверка на несбалансированное число 9998\n",
    "    assert check_balance(9998) == False, \"Test 8 Failed\"\n",
    "    print(\"Test 8 passed.\")\n",
    "\n",
    "test()"
   ]
  },
  {
   "cell_type": "code",
   "execution_count": null,
   "metadata": {},
   "outputs": [],
   "source": []
  }
 ],
 "metadata": {
  "colab": {
   "provenance": []
  },
  "kernelspec": {
   "display_name": "Python 3 (ipykernel)",
   "language": "python",
   "name": "python3"
  },
  "language_info": {
   "codemirror_mode": {
    "name": "ipython",
    "version": 3
   },
   "file_extension": ".py",
   "mimetype": "text/x-python",
   "name": "python",
   "nbconvert_exporter": "python",
   "pygments_lexer": "ipython3",
   "version": "3.12.4"
  }
 },
 "nbformat": 4,
 "nbformat_minor": 4
}
